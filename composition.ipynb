{
 "cells": [
  {
   "cell_type": "code",
   "execution_count": 1,
   "metadata": {},
   "outputs": [],
   "source": [
    "import json\n",
    "import numpy as np\n",
    "import random\n",
    "from tqdm.auto import tqdm\n",
    "import itertools\n",
    "import os\n",
    "from copy import deepcopy\n",
    "import matplotlib.pyplot as plt"
   ]
  },
  {
   "cell_type": "code",
   "execution_count": 2,
   "metadata": {},
   "outputs": [],
   "source": [
    "def build_dicts(entities):\n",
    "    entity2ind = dict()\n",
    "    ind2entity = []\n",
    "    for i in range(len(entities)):\n",
    "        entity = entities[i]\n",
    "        if not (entity in ind2entity):\n",
    "            ind2entity.append(entity)\n",
    "            entity2ind[entity] = len(ind2entity) - 1\n",
    "    return ind2entity, entity2ind\n",
    "\n",
    "def choose(arr, ratio_or_count):\n",
    "    if type(ratio_or_count) == float:\n",
    "        num = round(ratio_or_count*len(arr))\n",
    "    elif type(ratio_or_count) == int:\n",
    "        num = ratio_or_count\n",
    "    else:\n",
    "         assert False\n",
    "    if num >= len(arr):\n",
    "        return arr\n",
    "    rand_inds = np.random.choice(len(arr), num, replace=False).tolist()\n",
    "    return [arr[i] for i in rand_inds]\n",
    "    \n",
    "def split(arr, ratio_or_count):\n",
    "    if type(ratio_or_count) == float:\n",
    "        num = round(ratio_or_count*len(arr))\n",
    "    elif type(ratio_or_count) == int:\n",
    "        num = ratio_or_count\n",
    "    else:\n",
    "         assert False\n",
    "    train, test = [], []\n",
    "    rand_inds = np.random.choice(len(arr), num, replace=False).tolist()\n",
    "    for i in tqdm(range(len(arr))):\n",
    "        if i in rand_inds:\n",
    "            train.append(arr[i])\n",
    "        else:\n",
    "            test.append(arr[i])\n",
    "    return [train, test]\n",
    "\n",
    "def form_items(c, t, b = None, noise = 0):\n",
    "    len_c = len(c)\n",
    "    input_text = \"\".join(c)\n",
    "    target_text = input_text + \"\".join([t, \"</a>\"])\n",
    "    item = None\n",
    "    if len_c == 3 and b!= None: #inferred\n",
    "        # try1: h r1 <> r2 -> h r1 b r2 t\n",
    "        # input_text_cot = \"\".join(c[:2])+ \"<b>\" +c[-1]\n",
    "        # target_text_cot = input_text_cot.replace(\"<b>\",b) + \"\".join([t, \"</a>\"])\n",
    "        # try2: h r1 r2 -> h r1 r2 b t\n",
    "        input_text_cot = \"\".join(c)\n",
    "        target_text_cot = input_text_cot + \"\".join([b, t, \"</a>\"])\n",
    "        item = {\n",
    "        \"input_text\": input_text_cot,\n",
    "        \"target_text\": target_text_cot,\n",
    "        'train_noise': noise\n",
    "            }\n",
    "    else:\n",
    "        item = {\n",
    "        \"input_text\": input_text,\n",
    "        \"target_text\": target_text\n",
    "        }\n",
    "    return item"
   ]
  },
  {
   "cell_type": "code",
   "execution_count": 22,
   "metadata": {},
   "outputs": [
    {
     "name": "stderr",
     "output_type": "stream",
     "text": [
      "  0%|          | 0/2000 [00:00<?, ?it/s]"
     ]
    },
    {
     "name": "stderr",
     "output_type": "stream",
     "text": [
      "100%|██████████| 2000/2000 [00:00<00:00, 7432.27it/s]\n",
      "100%|██████████| 40000/40000 [00:00<00:00, 51268.42it/s]\n",
      "100%|██████████| 2000/2000 [00:04<00:00, 418.54it/s]"
     ]
    },
    {
     "name": "stdout",
     "output_type": "stream",
     "text": [
      "0.4\n",
      "300356\n"
     ]
    },
    {
     "name": "stderr",
     "output_type": "stream",
     "text": [
      "\n"
     ]
    }
   ],
   "source": [
    "def build_dataset(num_entities, num_relations, out_degree=20, split_train_inferred=False):\n",
    " \n",
    "    entities = [\"<e_{}>\".format(i) for i in range(num_entities)]\n",
    "    ind2entity, entity2ind = build_dicts(entities)\n",
    "\n",
    "    relations = [\"<r_{}>\".format(i) for i in range(num_relations)]\n",
    "    ind2relation, relation2ind = build_dicts(relations)\n",
    "\n",
    "    atomic_dict = dict()   # maps a head entity to a list of (r, t) pairs\n",
    "    atomic_facts = []\n",
    "    atomics = []\n",
    "\n",
    "    for i in tqdm(range(num_entities)):\n",
    "        # for each subject entity, randomly select some outgoing relations to some random object entity\n",
    "        num_rows = out_degree\n",
    "        selected_rows = np.random.choice(num_relations, size=num_rows, replace=False).tolist()\n",
    "        for row_idx in selected_rows:\n",
    "            col_idx = np.random.randint(num_entities)  # pick some random tail entity for each selected (h,r)\n",
    "            h,r,t = ind2entity[i], ind2relation[row_idx], ind2entity[col_idx]\n",
    "            atomic_facts.append(form_items([h, r], t))\n",
    "            atomics.append((h,r,t))\n",
    "            if h not in atomic_dict:\n",
    "                atomic_dict[h] = []\n",
    "            atomic_dict[h].append((r, t))\n",
    "    if not split_train_inferred:\n",
    "        inferred_facts = []\n",
    "        for ent in tqdm(entities):\n",
    "            for (r1, b) in atomic_dict[ent]:\n",
    "                for (r2, t) in atomic_dict[b]:\n",
    "                    inferred_facts.append(form_items([ent, r1, r2], t, b))\n",
    "        return entities, relations, atomic_facts, inferred_facts\n",
    "    \n",
    "    # split ID/OOD\n",
    "    OOD_ratio = 0.05\n",
    "    OOD_facts, ID_facts = split(atomics, round(len(atomics)*OOD_ratio))\n",
    "    OOD_facts, ID_facts = set(OOD_facts), set(ID_facts)\n",
    "\n",
    "    id_atomic_facts = [form_items([h, r], t) for (h,r,t) in ID_facts]\n",
    "    ood_atomic_facts = [form_items([h, r], t) for (h,r,t) in OOD_facts]\n",
    "\n",
    "    # whether train with noise?\n",
    "    train_noise = True\n",
    "    lambda_noise = 0.4\n",
    "    noise_num = 0\n",
    "    train_inferred_facts, test_inferred_iid, test_inferred_ood = [], [], []\n",
    "    for ent in tqdm(entities):\n",
    "        for (r1, b) in atomic_dict[ent]:\n",
    "            for (r2, t) in atomic_dict[b]:\n",
    "                if (ent, r1, b) in OOD_facts or (b, r2, t) in OOD_facts:\n",
    "                    if (ent, r1, b) in OOD_facts and (b, r2, t) in OOD_facts:\n",
    "                        test_inferred_ood.append(form_items([ent, r1, r2], t, b))\n",
    "                    continue\n",
    "                if np.random.uniform() > 0.005:\n",
    "                    if train_noise:\n",
    "                        if np.random.rand()>lambda_noise:\n",
    "                            train_inferred_facts.append(form_items([ent, r1, r2], t, b))\n",
    "                        else: #TODO: h,r1,r2  -> b,t\n",
    "                            t_noise = random.choice(entities)\n",
    "                            t = t_noise #the second hop noise\n",
    "                            # b_noise = random.choice(entities)\n",
    "                            # b = b_noise #the first hop noise\n",
    "                            noise_num += 1\n",
    "                            train_inferred_facts.append(form_items([ent, r1, r2], t, b, noise = 1))\n",
    "                    else:\n",
    "                        train_inferred_facts.append(form_items([ent, r1, r2], t, b))\n",
    "                else:\n",
    "                    test_inferred_iid.append(form_items([ent, r1, r2], t, b))\n",
    "    print(lambda_noise)\n",
    "    print(noise_num)\n",
    "\n",
    "    return entities, relations, id_atomic_facts, ood_atomic_facts, train_inferred_facts, test_inferred_iid, test_inferred_ood, lambda_noise \n",
    "    \n",
    "NUM_ENTITY_IN = 2000\n",
    "NUM_RELATION = 200\n",
    "\n",
    "train_entities, train_relations, id_atomic_facts, ood_atomic_facts, train_inferred_facts, test_inferred_iid, test_inferred_facts, lambda_noise = build_dataset(NUM_ENTITY_IN, NUM_RELATION, split_train_inferred=True)"
   ]
  },
  {
   "cell_type": "code",
   "execution_count": 23,
   "metadata": {},
   "outputs": [
    {
     "data": {
      "text/plain": [
       "750886"
      ]
     },
     "execution_count": 23,
     "metadata": {},
     "output_type": "execute_result"
    }
   ],
   "source": [
    "import numpy as np\n",
    "rand_num = np.random.rand()\n",
    "rand_num\n",
    "len(train_inferred_facts)"
   ]
  },
  {
   "cell_type": "code",
   "execution_count": 24,
   "metadata": {},
   "outputs": [
    {
     "name": "stdout",
     "output_type": "stream",
     "text": [
      "vocab size: 2207\n"
     ]
    }
   ],
   "source": [
    "vocab = []\n",
    "vocab = vocab + train_entities + train_relations\n",
    "# special tokens\n",
    "vocab = vocab + [\"<mask>\", \"<sep>\", \"<a>\", \"</a>\", \"<q>\", \"</q>\", \"<b>\"]\n",
    "assert len(vocab) == len(set(vocab))\n",
    "print(\"vocab size:\", len(vocab))"
   ]
  },
  {
   "cell_type": "code",
   "execution_count": 25,
   "metadata": {},
   "outputs": [
    {
     "data": {
      "text/plain": [
       "38000"
      ]
     },
     "execution_count": 25,
     "metadata": {},
     "output_type": "execute_result"
    }
   ],
   "source": [
    "test_size = 3000\n",
    "id_atomic_facts_ds = choose(id_atomic_facts, test_size)\n",
    "ood_atomic_facts_ds = choose(ood_atomic_facts, test_size)\n",
    "test_inferred_iid = choose(test_inferred_iid, test_size)\n",
    "test_inferred_facts_ds = choose(test_inferred_facts, test_size) #ood\n",
    "\n",
    "all_atomics = id_atomic_facts + ood_atomic_facts\n",
    "len(all_atomics)\n",
    "len(id_atomic_facts)"
   ]
  },
  {
   "cell_type": "code",
   "execution_count": 26,
   "metadata": {},
   "outputs": [],
   "source": [
    "# downsampling train_inferred\n",
    "# for phi in [18.0,12.6,9.0,7.2,5.4,3.6][:]:\n",
    "for phi in [7.2][:]:\n",
    "    dataset_name = \"composition1_{}_{}_{}\".format(NUM_ENTITY_IN, NUM_RELATION, phi)\n",
    "    dataset_name = \"composition1_{}_{}_{}_noise_{}\".format(NUM_ENTITY_IN, NUM_RELATION, phi, lambda_noise)\n",
    "    os.makedirs(\"data/{}\".format(dataset_name), exist_ok=True)\n",
    "    train_inferred_facts_ds = choose(train_inferred_facts, round(phi * len(id_atomic_facts)))\n",
    "\n",
    "    probes = []\n",
    "    for item in id_atomic_facts_ds:\n",
    "        probes.append(deepcopy(item))\n",
    "        probes[-1][\"type\"] = \"id_atomic\"\n",
    "    \n",
    "    for item in ood_atomic_facts_ds:\n",
    "        probes.append(deepcopy(item))\n",
    "        probes[-1][\"type\"] = \"ood_atomic\"\n",
    "\n",
    "    for item in choose(train_inferred_facts_ds, test_size):\n",
    "        probes.append(deepcopy(item))\n",
    "        probes[-1]['type'] = 'train_inferred'\n",
    "\n",
    "    for item in test_inferred_iid:\n",
    "        probes.append(deepcopy(item))\n",
    "        probes[-1]['type'] = 'test_inferred_iid'\n",
    "\n",
    "    for item in test_inferred_facts_ds:\n",
    "        probes.append(deepcopy(item))\n",
    "        probes[-1][\"type\"] = \"test_inferred_ood\"\n",
    "\n",
    "    with open(\"data/{}/train.json\".format(dataset_name), \"w\", encoding='utf-8') as f:  #all_atomics, inferred_facts_iid\n",
    "        json.dump(all_atomics + train_inferred_facts_ds, f)\n",
    "    with open(\"data/{}/valid.json\".format(dataset_name), \"w\", encoding='utf-8') as f:  #inferred_facts_ood\n",
    "        json.dump(test_inferred_facts_ds, f)\n",
    "    with open(\"data/{}/test.json\".format(dataset_name), \"w\", encoding='utf-8') as f: #iid,ood,atomic,inferred\n",
    "        json.dump(probes, f)\n",
    "    # add vocab\n",
    "    with open(\"data/{}/vocab.json\".format(dataset_name), \"w\", encoding='utf-8') as f:\n",
    "        json.dump(vocab, f)"
   ]
  }
 ],
 "metadata": {
  "kernelspec": {
   "display_name": "CLM",
   "language": "python",
   "name": "python3"
  },
  "language_info": {
   "codemirror_mode": {
    "name": "ipython",
    "version": 3
   },
   "file_extension": ".py",
   "mimetype": "text/x-python",
   "name": "python",
   "nbconvert_exporter": "python",
   "pygments_lexer": "ipython3",
   "version": "3.10.13"
  }
 },
 "nbformat": 4,
 "nbformat_minor": 2
}
