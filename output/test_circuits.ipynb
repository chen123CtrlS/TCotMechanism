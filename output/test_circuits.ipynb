{
 "cells": [
  {
   "cell_type": "code",
   "execution_count": 19,
   "metadata": {},
   "outputs": [
    {
     "name": "stdout",
     "output_type": "stream",
     "text": [
      "[[{'b_rank_before': 0, 't_rank_before': 643, 'b_rank_pos1_0': 51945, 'b_rank_pos2_0': 1281, 'r2_rank_pos2_0': 0, 'b_rank_pos1_1': 1241, 'b_rank_pos2_1': 1127, 'r2_rank_pos2_1': 1700, 'b_rank_pos1_2': 139, 'b_rank_pos2_2': 148, 'r2_rank_pos2_2': 1916, 'b_rank_pos1_3': 20, 'b_rank_pos2_3': 19, 'r2_rank_pos2_3': 1968, 'b_rank_pos1_4': 1, 'b_rank_pos2_4': 1, 'r2_rank_pos2_4': 1999, 'b_rank_pos1_5': 0, 'b_rank_pos2_5': 0, 'r2_rank_pos2_5': 1949, 'b_rank_pos1_6': 0, 'b_rank_pos2_6': 0, 'r2_rank_pos2_6': 1763, 'b_rank_pos1_7': 0, 'b_rank_pos2_7': 0, 'r2_rank_pos2_7': 1659, 'b_h_0': 1474, 'b_h_1': 0, 'b_h_2': 0, 'b_h_3': 0, 'b_h_4': 0, 'b_h_5': 0, 'b_h_6': 0, 'b_h_7': 0, 'b_r1_0': 27, 'b_r1_1': 0, 'b_r1_2': 0, 'b_r1_3': 0, 'b_r1_4': 0, 'b_r1_5': 0, 'b_r1_6': 0, 'b_r1_7': 0, 'b_r2_0': 0, 'b_r2_1': 1, 'b_r2_2': 1, 'b_r2_3': 1, 'b_r2_4': 1, 'b_r2_5': 1, 'b_r2_6': 1, 'b_r2_7': 1}, {'b_rank_before': 0, 't_rank_before': 177, 'b_rank_pos1_0': 46004, 'b_rank_pos2_0': 3361, 'r2_rank_pos2_0': 0, 'b_rank_pos1_1': 311, 'b_rank_pos2_1': 429, 'r2_rank_pos2_1': 1173, 'b_rank_pos1_2': 44, 'b_rank_pos2_2': 80, 'r2_rank_pos2_2': 1559, 'b_rank_pos1_3': 2, 'b_rank_pos2_3': 11, 'r2_rank_pos2_3': 1781, 'b_rank_pos1_4': 1, 'b_rank_pos2_4': 2, 'r2_rank_pos2_4': 1799, 'b_rank_pos1_5': 1, 'b_rank_pos2_5': 1, 'r2_rank_pos2_5': 1740, 'b_rank_pos1_6': 0, 'b_rank_pos2_6': 0, 'r2_rank_pos2_6': 1636, 'b_rank_pos1_7': 0, 'b_rank_pos2_7': 0, 'r2_rank_pos2_7': 1701, 'b_h_0': 689, 'b_h_1': 0, 'b_h_2': 0, 'b_h_3': 0, 'b_h_4': 0, 'b_h_5': 0, 'b_h_6': 0, 'b_h_7': 0, 'b_r1_0': 46, 'b_r1_1': 0, 'b_r1_2': 0, 'b_r1_3': 0, 'b_r1_4': 0, 'b_r1_5': 0, 'b_r1_6': 0, 'b_r1_7': 0, 'b_r2_0': 0, 'b_r2_1': 137, 'b_r2_2': 149, 'b_r2_3': 149, 'b_r2_4': 149, 'b_r2_5': 149, 'b_r2_6': 149, 'b_r2_7': 151}, {'b_rank_before': 0, 't_rank_before': 1272, 'b_rank_pos1_0': 52081, 'b_rank_pos2_0': 308, 'r2_rank_pos2_0': 0, 'b_rank_pos1_1': 428, 'b_rank_pos2_1': 325, 'r2_rank_pos2_1': 1818, 'b_rank_pos1_2': 105, 'b_rank_pos2_2': 81, 'r2_rank_pos2_2': 1802, 'b_rank_pos1_3': 6, 'b_rank_pos2_3': 2, 'r2_rank_pos2_3': 1882, 'b_rank_pos1_4': 0, 'b_rank_pos2_4': 0, 'r2_rank_pos2_4': 1847, 'b_rank_pos1_5': 0, 'b_rank_pos2_5': 0, 'r2_rank_pos2_5': 1873, 'b_rank_pos1_6': 0, 'b_rank_pos2_6': 0, 'r2_rank_pos2_6': 1855, 'b_rank_pos1_7': 0, 'b_rank_pos2_7': 0, 'r2_rank_pos2_7': 1593, 'b_h_0': 44, 'b_h_1': 0, 'b_h_2': 0, 'b_h_3': 0, 'b_h_4': 0, 'b_h_5': 0, 'b_h_6': 0, 'b_h_7': 0, 'b_r1_0': 540, 'b_r1_1': 0, 'b_r1_2': 0, 'b_r1_3': 0, 'b_r1_4': 0, 'b_r1_5': 0, 'b_r1_6': 0, 'b_r1_7': 0, 'b_r2_0': 0, 'b_r2_1': 2, 'b_r2_2': 2, 'b_r2_3': 2, 'b_r2_4': 2, 'b_r2_5': 2, 'b_r2_6': 2, 'b_r2_7': 2}, {'b_rank_before': 0, 't_rank_before': 1375, 'b_rank_pos1_0': 994, 'b_rank_pos2_0': 1312, 'r2_rank_pos2_0': 0, 'b_rank_pos1_1': 2, 'b_rank_pos2_1': 2, 'r2_rank_pos2_1': 1814, 'b_rank_pos1_2': 1, 'b_rank_pos2_2': 1, 'r2_rank_pos2_2': 1934, 'b_rank_pos1_3': 0, 'b_rank_pos2_3': 0, 'r2_rank_pos2_3': 1966, 'b_rank_pos1_4': 0, 'b_rank_pos2_4': 0, 'r2_rank_pos2_4': 1928, 'b_rank_pos1_5': 0, 'b_rank_pos2_5': 0, 'r2_rank_pos2_5': 1766, 'b_rank_pos1_6': 0, 'b_rank_pos2_6': 0, 'r2_rank_pos2_6': 1367, 'b_rank_pos1_7': 0, 'b_rank_pos2_7': 0, 'r2_rank_pos2_7': 1036, 'b_h_0': 216, 'b_h_1': 0, 'b_h_2': 0, 'b_h_3': 0, 'b_h_4': 0, 'b_h_5': 0, 'b_h_6': 0, 'b_h_7': 0, 'b_r1_0': 422, 'b_r1_1': 0, 'b_r1_2': 0, 'b_r1_3': 0, 'b_r1_4': 0, 'b_r1_5': 0, 'b_r1_6': 0, 'b_r1_7': 0, 'b_r2_0': 0, 'b_r2_1': 22, 'b_r2_2': 22, 'b_r2_3': 22, 'b_r2_4': 22, 'b_r2_5': 22, 'b_r2_6': 22, 'b_r2_7': 22}, {'b_rank_before': 0, 't_rank_before': 702, 'b_rank_pos1_0': 52257, 'b_rank_pos2_0': 847, 'r2_rank_pos2_0': 0, 'b_rank_pos1_1': 23, 'b_rank_pos2_1': 29, 'r2_rank_pos2_1': 1787, 'b_rank_pos1_2': 2, 'b_rank_pos2_2': 2, 'r2_rank_pos2_2': 1655, 'b_rank_pos1_3': 0, 'b_rank_pos2_3': 0, 'r2_rank_pos2_3': 1682, 'b_rank_pos1_4': 0, 'b_rank_pos2_4': 0, 'r2_rank_pos2_4': 1679, 'b_rank_pos1_5': 0, 'b_rank_pos2_5': 0, 'r2_rank_pos2_5': 1563, 'b_rank_pos1_6': 0, 'b_rank_pos2_6': 0, 'r2_rank_pos2_6': 1516, 'b_rank_pos1_7': 0, 'b_rank_pos2_7': 0, 'r2_rank_pos2_7': 1569, 'b_h_0': 47, 'b_h_1': 0, 'b_h_2': 0, 'b_h_3': 0, 'b_h_4': 0, 'b_h_5': 0, 'b_h_6': 0, 'b_h_7': 0, 'b_r1_0': 53, 'b_r1_1': 0, 'b_r1_2': 0, 'b_r1_3': 0, 'b_r1_4': 0, 'b_r1_5': 0, 'b_r1_6': 0, 'b_r1_7': 0, 'b_r2_0': 0, 'b_r2_1': 1815, 'b_r2_2': 1797, 'b_r2_3': 1797, 'b_r2_4': 1797, 'b_r2_5': 1797, 'b_r2_6': 1797, 'b_r2_7': 1797}, {'b_rank_before': 0, 't_rank_before': 1218, 'b_rank_pos1_0': 527, 'b_rank_pos2_0': 52447, 'r2_rank_pos2_0': 0, 'b_rank_pos1_1': 693, 'b_rank_pos2_1': 983, 'r2_rank_pos2_1': 1826, 'b_rank_pos1_2': 106, 'b_rank_pos2_2': 251, 'r2_rank_pos2_2': 2099, 'b_rank_pos1_3': 5, 'b_rank_pos2_3': 40, 'r2_rank_pos2_3': 2040, 'b_rank_pos1_4': 0, 'b_rank_pos2_4': 0, 'r2_rank_pos2_4': 2079, 'b_rank_pos1_5': 0, 'b_rank_pos2_5': 0, 'r2_rank_pos2_5': 2049, 'b_rank_pos1_6': 0, 'b_rank_pos2_6': 0, 'r2_rank_pos2_6': 2091, 'b_rank_pos1_7': 0, 'b_rank_pos2_7': 0, 'r2_rank_pos2_7': 2044, 'b_h_0': 637, 'b_h_1': 0, 'b_h_2': 0, 'b_h_3': 0, 'b_h_4': 0, 'b_h_5': 0, 'b_h_6': 0, 'b_h_7': 0, 'b_r1_0': 404, 'b_r1_1': 0, 'b_r1_2': 0, 'b_r1_3': 0, 'b_r1_4': 0, 'b_r1_5': 0, 'b_r1_6': 0, 'b_r1_7': 0, 'b_r2_0': 0, 'b_r2_1': 27, 'b_r2_2': 60, 'b_r2_3': 60, 'b_r2_4': 60, 'b_r2_5': 60, 'b_r2_6': 61, 'b_r2_7': 65}, {'b_rank_before': 0, 't_rank_before': 2074, 'b_rank_pos1_0': 691, 'b_rank_pos2_0': 2416, 'r2_rank_pos2_0': 0, 'b_rank_pos1_1': 22, 'b_rank_pos2_1': 37, 'r2_rank_pos2_1': 766, 'b_rank_pos1_2': 5, 'b_rank_pos2_2': 12, 'r2_rank_pos2_2': 721, 'b_rank_pos1_3': 0, 'b_rank_pos2_3': 1, 'r2_rank_pos2_3': 808, 'b_rank_pos1_4': 0, 'b_rank_pos2_4': 0, 'r2_rank_pos2_4': 757, 'b_rank_pos1_5': 0, 'b_rank_pos2_5': 0, 'r2_rank_pos2_5': 774, 'b_rank_pos1_6': 0, 'b_rank_pos2_6': 0, 'r2_rank_pos2_6': 787, 'b_rank_pos1_7': 0, 'b_rank_pos2_7': 0, 'r2_rank_pos2_7': 561, 'b_h_0': 246, 'b_h_1': 0, 'b_h_2': 0, 'b_h_3': 0, 'b_h_4': 0, 'b_h_5': 0, 'b_h_6': 0, 'b_h_7': 0, 'b_r1_0': 41, 'b_r1_1': 0, 'b_r1_2': 0, 'b_r1_3': 0, 'b_r1_4': 0, 'b_r1_5': 0, 'b_r1_6': 0, 'b_r1_7': 0, 'b_r2_0': 0, 'b_r2_1': 150, 'b_r2_2': 321, 'b_r2_3': 321, 'b_r2_4': 321, 'b_r2_5': 321, 'b_r2_6': 320, 'b_r2_7': 327}, {'b_rank_before': 0, 't_rank_before': 1129, 'b_rank_pos1_0': 8024, 'b_rank_pos2_0': 52204, 'r2_rank_pos2_0': 0, 'b_rank_pos1_1': 150, 'b_rank_pos2_1': 189, 'r2_rank_pos2_1': 1893, 'b_rank_pos1_2': 36, 'b_rank_pos2_2': 36, 'r2_rank_pos2_2': 1951, 'b_rank_pos1_3': 9, 'b_rank_pos2_3': 8, 'r2_rank_pos2_3': 1803, 'b_rank_pos1_4': 1, 'b_rank_pos2_4': 1, 'r2_rank_pos2_4': 1658, 'b_rank_pos1_5': 0, 'b_rank_pos2_5': 0, 'r2_rank_pos2_5': 1676, 'b_rank_pos1_6': 0, 'b_rank_pos2_6': 0, 'r2_rank_pos2_6': 1729, 'b_rank_pos1_7': 0, 'b_rank_pos2_7': 0, 'r2_rank_pos2_7': 1601, 'b_h_0': 380, 'b_h_1': 0, 'b_h_2': 0, 'b_h_3': 0, 'b_h_4': 0, 'b_h_5': 0, 'b_h_6': 0, 'b_h_7': 0, 'b_r1_0': 1280, 'b_r1_1': 0, 'b_r1_2': 0, 'b_r1_3': 0, 'b_r1_4': 0, 'b_r1_5': 0, 'b_r1_6': 0, 'b_r1_7': 0, 'b_r2_0': 0, 'b_r2_1': 34, 'b_r2_2': 43, 'b_r2_3': 43, 'b_r2_4': 42, 'b_r2_5': 42, 'b_r2_6': 42, 'b_r2_7': 43}, {'b_rank_before': 0, 't_rank_before': 55, 'b_rank_pos1_0': 52428, 'b_rank_pos2_0': 1877, 'r2_rank_pos2_0': 0, 'b_rank_pos1_1': 28, 'b_rank_pos2_1': 49, 'r2_rank_pos2_1': 1405, 'b_rank_pos1_2': 2, 'b_rank_pos2_2': 2, 'r2_rank_pos2_2': 1486, 'b_rank_pos1_3': 0, 'b_rank_pos2_3': 0, 'r2_rank_pos2_3': 1664, 'b_rank_pos1_4': 0, 'b_rank_pos2_4': 0, 'r2_rank_pos2_4': 1777, 'b_rank_pos1_5': 0, 'b_rank_pos2_5': 0, 'r2_rank_pos2_5': 1722, 'b_rank_pos1_6': 0, 'b_rank_pos2_6': 0, 'r2_rank_pos2_6': 1684, 'b_rank_pos1_7': 0, 'b_rank_pos2_7': 0, 'r2_rank_pos2_7': 1658, 'b_h_0': 1359, 'b_h_1': 0, 'b_h_2': 0, 'b_h_3': 0, 'b_h_4': 0, 'b_h_5': 0, 'b_h_6': 0, 'b_h_7': 0, 'b_r1_0': 555, 'b_r1_1': 0, 'b_r1_2': 0, 'b_r1_3': 0, 'b_r1_4': 0, 'b_r1_5': 0, 'b_r1_6': 0, 'b_r1_7': 0, 'b_r2_0': 0, 'b_r2_1': 40, 'b_r2_2': 40, 'b_r2_3': 40, 'b_r2_4': 40, 'b_r2_5': 40, 'b_r2_6': 40, 'b_r2_7': 40}, {'b_rank_before': 0, 't_rank_before': 36, 'b_rank_pos1_0': 277, 'b_rank_pos2_0': 10188, 'r2_rank_pos2_0': 0, 'b_rank_pos1_1': 2, 'b_rank_pos2_1': 2, 'r2_rank_pos2_1': 1177, 'b_rank_pos1_2': 0, 'b_rank_pos2_2': 0, 'r2_rank_pos2_2': 1552, 'b_rank_pos1_3': 0, 'b_rank_pos2_3': 0, 'r2_rank_pos2_3': 1852, 'b_rank_pos1_4': 0, 'b_rank_pos2_4': 0, 'r2_rank_pos2_4': 1946, 'b_rank_pos1_5': 0, 'b_rank_pos2_5': 0, 'r2_rank_pos2_5': 1920, 'b_rank_pos1_6': 0, 'b_rank_pos2_6': 0, 'r2_rank_pos2_6': 1797, 'b_rank_pos1_7': 0, 'b_rank_pos2_7': 0, 'r2_rank_pos2_7': 1670, 'b_h_0': 1015, 'b_h_1': 0, 'b_h_2': 0, 'b_h_3': 0, 'b_h_4': 0, 'b_h_5': 0, 'b_h_6': 0, 'b_h_7': 0, 'b_r1_0': 70, 'b_r1_1': 0, 'b_r1_2': 0, 'b_r1_3': 0, 'b_r1_4': 0, 'b_r1_5': 0, 'b_r1_6': 0, 'b_r1_7': 0, 'b_r2_0': 0, 'b_r2_1': 79, 'b_r2_2': 92, 'b_r2_3': 92, 'b_r2_4': 92, 'b_r2_5': 92, 'b_r2_6': 92, 'b_r2_7': 92}]]\n"
     ]
    }
   ],
   "source": [
    "import json\n",
    "\n",
    "with open('causal_result_hop1.json', 'r') as file:\n",
    "    data = json.load(file)\n",
    "\n",
    "# output data\n",
    "print(data)\n"
   ]
  },
  {
   "cell_type": "code",
   "execution_count": 20,
   "metadata": {},
   "outputs": [
    {
     "data": {
      "text/plain": [
       "{'b_rank_before': 0,\n",
       " 't_rank_before': 868.1,\n",
       " 'b_rank_pos1_0': 26522.8,\n",
       " 'b_rank_pos2_0': 12624.1,\n",
       " 'r2_rank_pos2_0': 0,\n",
       " 'b_rank_pos1_1': 290.0,\n",
       " 'b_rank_pos2_1': 317.2,\n",
       " 'r2_rank_pos2_1': 1535.9,\n",
       " 'b_rank_pos1_2': 44.0,\n",
       " 'b_rank_pos2_2': 61.3,\n",
       " 'r2_rank_pos2_2': 1667.5,\n",
       " 'b_rank_pos1_3': 4.2,\n",
       " 'b_rank_pos2_3': 8.1,\n",
       " 'r2_rank_pos2_3': 1744.6,\n",
       " 'b_rank_pos1_4': 0,\n",
       " 'b_rank_pos2_4': 0,\n",
       " 'r2_rank_pos2_4': 1746.9,\n",
       " 'b_rank_pos1_5': 0,\n",
       " 'b_rank_pos2_5': 0,\n",
       " 'r2_rank_pos2_5': 1703.2,\n",
       " 'b_rank_pos1_6': 0,\n",
       " 'b_rank_pos2_6': 0,\n",
       " 'r2_rank_pos2_6': 1622.5,\n",
       " 'b_rank_pos1_7': 0,\n",
       " 'b_rank_pos2_7': 0,\n",
       " 'r2_rank_pos2_7': 1509.2,\n",
       " 'b_h_0': 610.7,\n",
       " 'b_h_1': 0,\n",
       " 'b_h_2': 0,\n",
       " 'b_h_3': 0,\n",
       " 'b_h_4': 0,\n",
       " 'b_h_5': 0,\n",
       " 'b_h_6': 0,\n",
       " 'b_h_7': 0,\n",
       " 'b_r1_0': 343.8,\n",
       " 'b_r1_1': 0,\n",
       " 'b_r1_2': 0,\n",
       " 'b_r1_3': 0,\n",
       " 'b_r1_4': 0,\n",
       " 'b_r1_5': 0,\n",
       " 'b_r1_6': 0,\n",
       " 'b_r1_7': 0,\n",
       " 'b_r2_0': 0,\n",
       " 'b_r2_1': 230.7,\n",
       " 'b_r2_2': 252.7,\n",
       " 'b_r2_3': 252.7,\n",
       " 'b_r2_4': 252.6,\n",
       " 'b_r2_5': 252.6,\n",
       " 'b_r2_6': 252.6,\n",
       " 'b_r2_7': 254.0}"
      ]
     },
     "execution_count": 20,
     "metadata": {},
     "output_type": "execute_result"
    }
   ],
   "source": [
    "keys = list(data[0][0].keys())\n",
    "count_dict = dict()\n",
    "for key in keys:\n",
    "    count_dict[key] = 0\n",
    "for item in data[0]:\n",
    "    for key in keys:\n",
    "        count_dict[key]+=item[key]\n",
    "n = len(data[0])\n",
    "for key in keys:\n",
    "    count_dict[key] = count_dict[key]/n\n",
    "    if count_dict[key]<1:\n",
    "        count_dict[key] = 0\n",
    "count_dict"
   ]
  }
 ],
 "metadata": {
  "kernelspec": {
   "display_name": "pytorch310",
   "language": "python",
   "name": "python3"
  },
  "language_info": {
   "codemirror_mode": {
    "name": "ipython",
    "version": 3
   },
   "file_extension": ".py",
   "mimetype": "text/x-python",
   "name": "python",
   "nbconvert_exporter": "python",
   "pygments_lexer": "ipython3",
   "version": "3.10.13"
  }
 },
 "nbformat": 4,
 "nbformat_minor": 2
}
